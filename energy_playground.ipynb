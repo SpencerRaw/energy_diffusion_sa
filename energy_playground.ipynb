{
  "nbformat": 4,
  "nbformat_minor": 0,
  "metadata": {
    "colab": {
      "provenance": []
    },
    "kernelspec": {
      "name": "python3",
      "display_name": "Python 3"
    },
    "language_info": {
      "name": "python"
    }
  },
  "cells": [
    {
      "cell_type": "code",
      "execution_count": null,
      "metadata": {
        "id": "nNeUROH4cHE2"
      },
      "outputs": [],
      "source": [
        "import numpy as np"
      ]
    },
    {
      "cell_type": "markdown",
      "source": [
        "## 1 关于sigma t？"
      ],
      "metadata": {
        "id": "n-p_qVYhcdYl"
      }
    },
    {
      "cell_type": "code",
      "source": [
        "def get_sigma_schedule(*, beta_start, beta_end, num_diffusion_timesteps):\n",
        "    \"\"\"\n",
        "    Get the noise level schedule\n",
        "    :param beta_start: begin noise level\n",
        "    :param beta_end: end noise level\n",
        "    :param num_diffusion_timesteps: number of timesteps\n",
        "    :return:\n",
        "    -- sigmas: sigma_{t+1}, scaling parameter of epsilon_{t+1}\n",
        "    -- a_s: sqrt(1 - sigma_{t+1}^2), scaling parameter of x_t\n",
        "    \"\"\"\n",
        "    betas = np.linspace(beta_start, beta_end, 1000, dtype=np.float64)\n",
        "    # print(\"betas\",betas)\n",
        "    betas = np.append(betas, 1.)\n",
        "    # print(\"betas2\",betas)\n",
        "    assert isinstance(betas, np.ndarray)\n",
        "    betas = betas.astype(np.float64)\n",
        "    assert (betas > 0).all() and (betas <= 1).all()\n",
        "    sqrt_alphas = np.sqrt(1. - betas)\n",
        "    # print(\"sqrt_alphas\",sqrt_alphas)\n",
        "    temp = np.concatenate([np.arange(num_diffusion_timesteps) * (1000 // ((num_diffusion_timesteps - 1) * 2)), [999]])\n",
        "    # print(\"temp\",temp)\n",
        "    idx = temp.astype(np.int32)\n",
        "    # print(\"idx\",idx)\n",
        "    a_s = np.concatenate(\n",
        "        [[np.prod(sqrt_alphas[: idx[0] + 1])],\n",
        "         np.asarray([np.prod(sqrt_alphas[idx[i - 1] + 1: idx[i] + 1]) for i in np.arange(1, len(idx))])])\n",
        "    # print(\"a_s\",a_s)\n",
        "    sigma = np.sqrt(1 - a_s ** 2)\n",
        "    # print(\"sigma\",sigma)\n",
        "\n",
        "    return sigma, a_s"
      ],
      "metadata": {
        "id": "Hewy2P-pcicG"
      },
      "execution_count": null,
      "outputs": []
    },
    {
      "cell_type": "code",
      "source": [
        "num_diffusion_timesteps = 10"
      ],
      "metadata": {
        "id": "0sYULR7pc_kr"
      },
      "execution_count": null,
      "outputs": []
    },
    {
      "cell_type": "code",
      "source": [
        "sigmas, a_s = get_sigma_schedule(beta_start=0.0001, beta_end=0.02, num_diffusion_timesteps=num_diffusion_timesteps)"
      ],
      "metadata": {
        "id": "yox2EXCUcudn"
      },
      "execution_count": null,
      "outputs": []
    },
    {
      "cell_type": "code",
      "source": [
        "sigmas"
      ],
      "metadata": {
        "colab": {
          "base_uri": "https://localhost:8080/"
        },
        "id": "k9EdG2wOdBfl",
        "outputId": "74d65449-91d0-48a4-d643-8abafcba38ef"
      },
      "execution_count": null,
      "outputs": [
        {
          "output_type": "execute_result",
          "data": {
            "text/plain": [
              "array([0.01      , 0.18853184, 0.30333138, 0.38108576, 0.44201498,\n",
              "       0.49258106, 0.53587945, 0.57369333, 0.60716883, 0.63709858,\n",
              "       0.99975332])"
            ]
          },
          "metadata": {},
          "execution_count": 16
        }
      ]
    },
    {
      "cell_type": "code",
      "source": [
        "a_s"
      ],
      "metadata": {
        "colab": {
          "base_uri": "https://localhost:8080/"
        },
        "id": "7xr1vOcRdCaT",
        "outputId": "569e9c66-4185-44e0-89ed-da03e9b653e2"
      },
      "execution_count": null,
      "outputs": [
        {
          "output_type": "execute_result",
          "data": {
            "text/plain": [
              "array([0.99995   , 0.98206708, 0.95288513, 0.92453969, 0.89700767,\n",
              "       0.87026657, 0.84429451, 0.81907018, 0.79457285, 0.77078233,\n",
              "       0.02221017])"
            ]
          },
          "metadata": {},
          "execution_count": 14
        }
      ]
    },
    {
      "cell_type": "code",
      "source": [],
      "metadata": {
        "id": "AZGNVBwEdMS_"
      },
      "execution_count": null,
      "outputs": []
    },
    {
      "cell_type": "markdown",
      "source": [
        "## 2 关于time emb"
      ],
      "metadata": {
        "id": "v3iG8t_JIq1C"
      }
    },
    {
      "cell_type": "code",
      "source": [
        "import math\n",
        "import torch\n",
        "import torch.nn.functional as F"
      ],
      "metadata": {
        "id": "IIEjAXbVIsr9"
      },
      "execution_count": 1,
      "outputs": []
    },
    {
      "cell_type": "code",
      "source": [
        "def get_timestep_embedding(timesteps, embedding_dim: int):\n",
        "    \"\"\"\n",
        "    From Fairseq.\n",
        "    Build sinusoidal embeddings.\n",
        "    This matches the implementation in tensor2tensor, but differs slightly\n",
        "    from the description in Section 3.5 of \"Attention Is All You Need\".\n",
        "    \"\"\"\n",
        "    assert len(timesteps.shape) == 1  # and timesteps.dtype == torch.int32\n",
        "\n",
        "    half_dim = embedding_dim // 2\n",
        "    emb = math.log(10000) / (half_dim - 1)\n",
        "    emb = torch.exp(torch.arange(0, half_dim) * -emb).to(timesteps.device)\n",
        "    emb = torch.matmul(1.0 * timesteps.reshape(-1, 1), emb.reshape(1, -1))\n",
        "    emb = torch.cat([torch.sin(emb), torch.cos(emb)], dim=1)\n",
        "    if embedding_dim % 2 == 1:  # zero pad\n",
        "        # emb = torch.cat([emb, torch.zeros([num_embeddings, 1])], axis=1)\n",
        "        emb = F.pad(emb, [0, 1, 0, 0])\n",
        "    assert list(emb.shape) == [timesteps.shape[0], embedding_dim]\n",
        "    return emb"
      ],
      "metadata": {
        "id": "RobSr3hmItLX"
      },
      "execution_count": 2,
      "outputs": []
    },
    {
      "cell_type": "code",
      "source": [
        "t = torch.ones(1, dtype=torch.int64, ) * 5"
      ],
      "metadata": {
        "id": "m3FEXc6eJH5A"
      },
      "execution_count": 28,
      "outputs": []
    },
    {
      "cell_type": "code",
      "source": [
        "temb = get_timestep_embedding(t, 4)"
      ],
      "metadata": {
        "id": "cK5tPLw4Ivc4"
      },
      "execution_count": 29,
      "outputs": []
    },
    {
      "cell_type": "code",
      "source": [
        "temb"
      ],
      "metadata": {
        "colab": {
          "base_uri": "https://localhost:8080/"
        },
        "id": "JW25QWN7I7fs",
        "outputId": "44fa2772-9a02-46ee-c767-7ed413c2494d"
      },
      "execution_count": 30,
      "outputs": [
        {
          "output_type": "execute_result",
          "data": {
            "text/plain": [
              "tensor([[-9.5892e-01,  5.0000e-04,  2.8366e-01,  1.0000e+00]])"
            ]
          },
          "metadata": {},
          "execution_count": 30
        }
      ]
    },
    {
      "cell_type": "code",
      "source": [
        "# 总之，使用 time embedding的方式，解决了 温度、力场随时间变化需要输入一个时间t的问题。"
      ],
      "metadata": {
        "id": "dXplnuwLJ-rN"
      },
      "execution_count": 31,
      "outputs": []
    },
    {
      "cell_type": "code",
      "source": [
        "# 此外，如theta 的周期性的问题，对于神经网络，可以变成sin 和cos 然后再输入神经网络即可\n",
        "\"\"\"\n",
        "class FourierFeatureNN(nn.Module):\n",
        "    def __init__(self, input_dim, hidden_dim, output_dim, fourier_dim):\n",
        "        super(FourierFeatureNN, self).__init__()\n",
        "        self.B = torch.randn(input_dim, fourier_dim) * 2 * math.pi  # Fourier 特征映射矩阵\n",
        "        self.fc1 = nn.Linear(2 * fourier_dim, hidden_dim)\n",
        "        self.fc2 = nn.Linear(hidden_dim, output_dim)\n",
        "\n",
        "    def forward(self, theta):\n",
        "        # Fourier 特征映射\n",
        "        fourier_features = torch.cat([torch.sin(theta @ self.B), torch.cos(theta @ self.B)], dim=-1)\n",
        "        x = torch.relu(self.fc1(fourier_features))\n",
        "        output = self.fc2(x)\n",
        "        return output\n",
        "或者用Fourier 特征映射\n",
        "\"\"\""
      ],
      "metadata": {
        "id": "25EKqvDQKUxM"
      },
      "execution_count": 32,
      "outputs": []
    },
    {
      "cell_type": "code",
      "source": [
        "# 是否只要把最终构型转化为pbc就行了？"
      ],
      "metadata": {
        "id": "iBQkkgiQNf8_"
      },
      "execution_count": null,
      "outputs": []
    },
    {
      "cell_type": "markdown",
      "source": [
        "## 我的ebm"
      ],
      "metadata": {
        "id": "FfuqWNj4Wzyf"
      }
    },
    {
      "cell_type": "code",
      "source": [
        "# 一开始的空间：基本参数，2d的盒子，是0到L的周期性边界条件,粒子半径是r,粒子数目是N\n",
        "# 空间是N*(2+1) x,y,theta\n",
        "# 距离好说话，但是2个坐标的角度对应？2点连线的对应的向量和方向向量的基础之上做一个变化\n",
        "# 要有基本的测试，比如测试这个能量确实是稳定的"
      ],
      "metadata": {
        "id": "nZwPLKDXW2I6"
      },
      "execution_count": 33,
      "outputs": []
    },
    {
      "cell_type": "code",
      "source": [
        "# import numpy as np\n",
        "\n",
        "# class ParticleSystem:\n",
        "#     def __init__(self, L, N, r):\n",
        "#         self.L = L  # 盒子长度\n",
        "#         self.N = N  # 粒子数目\n",
        "#         self.r = r  # 粒子半径\n",
        "#         self.particles = self.initialize_particles()  # 初始化粒子\n",
        "\n",
        "\n",
        "#     def initialize_particles(self):\n",
        "#         # 初始化粒子的坐标和取向\n",
        "#         particles = []\n",
        "#         for _ in range(self.N):\n",
        "#             x = np.random.uniform(0, self.L)  # 随机x坐标\n",
        "#             y = np.random.uniform(0, self.L)  # 随机y坐标\n",
        "#             theta = np.random.uniform(0, 2 * np.pi)  # 随机取向\n",
        "#             particles.append((x, y, theta))\n",
        "#         return particles\n",
        "\n",
        "#     def distance(self, p1, p2):\n",
        "#         # 计算在周期性边界条件下的距离\n",
        "#         dx = p2[0] - p1[0]\n",
        "#         dy = p2[1] - p1[1]\n",
        "#         # 考虑周期性边界条件\n",
        "#         dx = dx - self.L * np.round(dx / self.L)\n",
        "#         dy = dy - self.L * np.round(dy / self.L)\n",
        "#         dist = np.sqrt(dx**2 + dy**2)\n",
        "#         return dist, dx, dy\n",
        "\n",
        "#     def angle(self, p1, p2):\n",
        "#         # 计算两个粒子之间的夹角\n",
        "#         _, dx, dy = self.distance(p1, p2)\n",
        "#         # 计算粒子p1的取向向量\n",
        "#         theta1 = p1[2]\n",
        "#         v1 = np.array([np.sin(theta1), np.cos(theta1)])  # p1的方向向量\n",
        "#         # 计算两个粒子连线的方向\n",
        "#         line_vector = np.array([dx, dy])\n",
        "#         # 计算夹角\n",
        "#         angle_p1 = np.arctan2(v1[1], v1[0]) - np.arctan2(line_vector[1], line_vector[0])\n",
        "#         angle_p1 = np.mod(angle_p1, 2 * np.pi)  # 将角度限制在0到2*pi之间\n",
        "#         return angle_p1\n",
        "\n",
        "#     def find_neighbors(self):\n",
        "#         neighbors = []\n",
        "#         for i, p1 in enumerate(self.particles):\n",
        "#             neighbor_info = []\n",
        "#             for j, p2 in enumerate(self.particles):\n",
        "#                 if i != j:\n",
        "#                     dist, _, _ = self.distance(p1, p2)\n",
        "#                     if dist <= 1.5 * self.r:  # 在1.5倍r的范围内\n",
        "#                         angle_p12 = self.angle(p1, p2)\n",
        "#                         angle_p21 = self.angle(p2, p1)\n",
        "#                         neighbor_info.append((j, dist, angle_p12,angle_p21))\n",
        "#             neighbors.append(neighbor_info)\n",
        "#         return neighbors"
      ],
      "metadata": {
        "id": "6NzsyC20ZHEt"
      },
      "execution_count": 50,
      "outputs": []
    },
    {
      "cell_type": "code",
      "source": [
        "# L = 10.0  # 盒子长度\n",
        "# N = 100  # 粒子数目\n",
        "# r = 0.5  # 粒子半径\n",
        "\n",
        "# system = ParticleSystem(L, N, r)\n",
        "\n",
        "# # 获取所有粒子的邻居信息\n",
        "# neighbors = system.find_neighbors()\n",
        "\n",
        "# # 打印每个粒子的邻居及其距离和角度\n",
        "# for i, neighbor_info in enumerate(neighbors):\n",
        "#     print(f\"Particle {i}:\")\n",
        "#     for neighbor in neighbor_info:\n",
        "#         neighbor_id, distance, angle12,angle21 = neighbor\n",
        "#         print(f\"  Neighbor {neighbor_id}: Distance = {distance:.2f}, Angleij = {angle12:.2f} radians, Angleji = {angle21:.2f} radians\")"
      ],
      "metadata": {
        "id": "rY_eN-WZciDf"
      },
      "execution_count": null,
      "outputs": []
    },
    {
      "cell_type": "code",
      "source": [],
      "metadata": {
        "colab": {
          "base_uri": "https://localhost:8080/"
        },
        "id": "wJLGD1Qlcu_U",
        "outputId": "1540f2db-96c4-4477-c56b-cd4cb9399a3e"
      },
      "execution_count": 47,
      "outputs": [
        {
          "output_type": "execute_result",
          "data": {
            "text/plain": [
              "(4.6144925329714255, 4.5896981521696185, 0.47771561500522974)"
            ]
          },
          "metadata": {},
          "execution_count": 47
        }
      ]
    },
    {
      "cell_type": "code",
      "source": [],
      "metadata": {
        "id": "7w2qUCiOcxL9"
      },
      "execution_count": null,
      "outputs": []
    },
    {
      "cell_type": "markdown",
      "source": [
        "### torch版本"
      ],
      "metadata": {
        "id": "fqNd3dAykM7g"
      }
    },
    {
      "cell_type": "code",
      "source": [
        "import torch\n",
        "import torch.nn as nn\n",
        "import numpy as np\n",
        "import math\n",
        "import torch.nn.functional as F\n"
      ],
      "metadata": {
        "id": "31fAUXfEkOT_"
      },
      "execution_count": 1,
      "outputs": []
    },
    {
      "cell_type": "code",
      "source": [
        "def get_timestep_embedding(timesteps, embedding_dim: int):\n",
        "    \"\"\"\n",
        "    From Fairseq. Build sinusoidal embeddings.\n",
        "    \"\"\"\n",
        "    assert len(timesteps.shape) == 1  # and timesteps.dtype == torch.int32\n",
        "\n",
        "    half_dim = embedding_dim // 2\n",
        "    emb = math.log(10000) / (half_dim - 1)\n",
        "    emb = torch.exp(torch.arange(0, half_dim) * -emb).to(timesteps.device)\n",
        "    emb = torch.matmul(1.0 * timesteps.reshape(-1, 1), emb.reshape(1, -1))\n",
        "    emb = torch.cat([torch.sin(emb), torch.cos(emb)], dim=1)\n",
        "    if embedding_dim % 2 == 1:  # zero pad\n",
        "        emb = F.pad(emb, [0, 1, 0, 0])\n",
        "    assert list(emb.shape) == [timesteps.shape[0], embedding_dim]\n",
        "    return emb"
      ],
      "metadata": {
        "id": "ImO7yhGywQWL"
      },
      "execution_count": 2,
      "outputs": []
    },
    {
      "cell_type": "code",
      "source": [
        "class FourierFeatureMLP(nn.Module):\n",
        "    def __init__(self, num_fourier_features=10, hidden_dim=128):\n",
        "        super(FourierFeatureMLP, self).__init__()\n",
        "        # Fourier特征映射参数\n",
        "        self.num_fourier_features = num_fourier_features\n",
        "        self.B = torch.randn(2, num_fourier_features) * 2 * np.pi  # Fourier 特征的频率矩阵\n",
        "        # MLP\n",
        "        self.mlp = nn.Sequential(\n",
        "            nn.Linear(num_fourier_features * 2, hidden_dim),\n",
        "            nn.Tanh(),\n",
        "            nn.Linear(hidden_dim, 1),\n",
        "            nn.Sigmoid()  # 确保输出大于0的激活函数\n",
        "        )\n",
        "\n",
        "    def forward(self, angle):\n",
        "        # Fourier 特征映射\n",
        "        # print(angle)\n",
        "        # angle = angle.unsqueeze(0)\n",
        "        if angle.dim() == 0:  # 如果是1维的, 添加一个维度变为 (N, 1)\n",
        "            angle = angle.unsqueeze(0)\n",
        "        else:\n",
        "            angle = angle.unsqueeze(-1)\n",
        "\n",
        "        theta_sin_cos = torch.cat([torch.sin(angle), torch.cos(angle)], dim=-1)\n",
        "\n",
        "        fourier_features = torch.cat([torch.sin(theta_sin_cos @ self.B), torch.cos(theta_sin_cos @ self.B)], dim=-1)\n",
        "        # MLP 输出\n",
        "        output = self.mlp(fourier_features)\n",
        "        return output\n"
      ],
      "metadata": {
        "id": "i6fPKsh7CuSH"
      },
      "execution_count": 3,
      "outputs": []
    },
    {
      "cell_type": "code",
      "source": [
        "class ParticleSystemTorch:\n",
        "    def __init__(self, L, N, r, epsilon, sigma,epsilon_dim=128):\n",
        "        super(ParticleSystemTorch, self).__init__()\n",
        "        self.L = L  # 盒子长度\n",
        "        self.N = N  # 粒子数目\n",
        "        self.r = r  # 粒子半径\n",
        "        self.epsilon = epsilon  # Lennard-Jones 势能深度\n",
        "        self.sigma = sigma  # Lennard-Jones 势能参数\n",
        "        self.particles = self.initialize_particles()  # 初始化粒子\n",
        "        self.particles_warm = self.warm_up()\n",
        "\n",
        "        self.epsilon_dim = epsilon_dim\n",
        "        self.epsilon_mlp = nn.Sequential(\n",
        "            nn.Linear(epsilon_dim, 64),\n",
        "            nn.ReLU(),\n",
        "            nn.Linear(64, 1),  # 输出一个标量 epsilon\n",
        "            nn.Sigmoid()\n",
        "        )\n",
        "\n",
        "        # 初始化角度相关势能的神经网络\n",
        "        self.angle_nn = FourierFeatureMLP()\n",
        "        # self.angle_nn = PeriodicNN(input_dim=1,hidden_dim = 128,output_dim=1)\n",
        "\n",
        "    def epsilon_plus(self, t):\n",
        "        # 获取时间嵌入\n",
        "        if isinstance(t, int) or len(t.shape) == 0:\n",
        "            t = torch.tensor([t], dtype=torch.float32)  # 确保 t 是 tensor\n",
        "        temb = get_timestep_embedding(t, self.epsilon_dim)  # 生成时间嵌入\n",
        "        return 1+9*self.epsilon_mlp(temb)\n",
        "\n",
        "    def initialize_particles_old(self):\n",
        "        # 初始化粒子的坐标和取向 (转换为PyTorch张量)\n",
        "        particles = []\n",
        "        for _ in range(self.N):\n",
        "            x = torch.rand(1) * self.L  # 随机x坐标\n",
        "            y = torch.rand(1) * self.L  # 随机y坐标\n",
        "            theta = torch.rand(1) * 2 * np.pi  # 随机取向\n",
        "            particles.append((x, y, theta))\n",
        "        return particles\n",
        "\n",
        "    def periodic_distance(self,p1, p2, box_size):\n",
        "        delta_x = abs(p1[0] - p2[0])\n",
        "        delta_y = abs(p1[1] - p2[1])\n",
        "\n",
        "        # 处理周期性边界条件\n",
        "        if delta_x > box_size / 2:\n",
        "            delta_x = box_size - delta_x\n",
        "        if delta_y > box_size / 2:\n",
        "            delta_y = box_size - delta_y\n",
        "\n",
        "        return np.sqrt(delta_x**2 + delta_y**2)\n",
        "\n",
        "    def is_overlapping(self,new_circle, circle_centers, box_size, radius):\n",
        "        for center in circle_centers:\n",
        "            if self.periodic_distance(new_circle, center, box_size) < 2 * radius:\n",
        "                return True\n",
        "        return False\n",
        "\n",
        "    def initialize_particles(self):\n",
        "\n",
        "        positions = np.zeros((self.N, 3))\n",
        "        numLatticesX = round(math.sqrt(self.N))\n",
        "        numLatticesY = math.ceil(self.N/numLatticesX)\n",
        "        for iatom in range(self.N):\n",
        "            positions[iatom, 0] = (iatom%numLatticesX+0.5)*(self.L/numLatticesX) + np.random.rand()*0.5\n",
        "            positions[iatom, 1] = (math.floor(iatom/numLatticesX)+0.5)*(self.L/numLatticesY) + np.random.rand()*0.5\n",
        "            positions[iatom, 2] = np.random.uniform(0, 2 * np.pi)\n",
        "\n",
        "        return torch.from_numpy(positions).float()\n",
        "\n",
        "    def warm_up(self):\n",
        "        masses = np.ones(self.N)\n",
        "        energies = np.zeros(self.N)\n",
        "        forces = np.zeros((self.N, 2))\n",
        "        accelerations = np.zeros((self.N, 2))\n",
        "        positions = self.particles.cpu().numpy()\n",
        "\n",
        "        numSteps = 150\n",
        "        timeStep = 0.01\n",
        "        velocities = np.random.rand(self.N, 2) - 0.5\n",
        "\n",
        "        for istep in range(numSteps):\n",
        "            positions = self.update_positions(positions, velocities, timeStep)\n",
        "            positions = self.boundary_conditions(positions)\n",
        "            forces = self.lj_potential_warm(energies, forces, positions, epsilon, sigma)\n",
        "            velocities = self.update_velocities(forces, masses, accelerations, velocities, timeStep)\n",
        "            velocities = self.thermostat(velocities, masses)\n",
        "        return torch.from_numpy(positions).float()\n",
        "\n",
        "\n",
        "    def update_positions(self,positions, velocities, timeStep):\n",
        "        for atom in range(self.N):\n",
        "            for col in [0, 1]:\n",
        "                positions[atom, col] += timeStep * velocities[atom, col]\n",
        "        return positions\n",
        "\n",
        "    def boundary_conditions(self,positions):\n",
        "        for atom in range(self.N):\n",
        "            for col in [0, 1]:\n",
        "                positions[atom, col] = positions[atom, col] - self.L * np.round(positions[atom, col] / self.L)+self.L/2\n",
        "        return positions\n",
        "\n",
        "\n",
        "\n",
        "\n",
        "    def lj_potential_warm(self,energies, forces, positions, epsilon, sigma):\n",
        "        for iatom in range(self.N-1):\n",
        "            for jatom in range(iatom+1, self.N):\n",
        "                dist_square = 0.0 # square of distance\n",
        "                for col in [0, 1]:\n",
        "                    dist_col = positions[iatom, col] - positions[jatom, col]\n",
        "                    if dist_col > self.L/2.0:\n",
        "                        dist_col -= self.L\n",
        "                    if dist_col < -self.L/2.0:\n",
        "                        dist_col += self.L\n",
        "                    dist_square += dist_col**2\n",
        "                dist = math.sqrt(dist_square)\n",
        "\n",
        "                energy = 4.0*epsilon*((sigma/dist)**12 - (sigma/dist)**6)\n",
        "                energies[iatom] += 0.5*energy # Accumulate energy\n",
        "                energies[jatom] += 0.5*energy\n",
        "\n",
        "                force_repulsion = 48.0*epsilon*(sigma/dist)**12\n",
        "                force_attraction = -24.0*epsilon*(sigma/dist)**6\n",
        "                force = force_repulsion + force_attraction\n",
        "\n",
        "                for col in [0, 1]:\n",
        "                    dist_col = positions[iatom, col] - positions[jatom, col]\n",
        "                    if dist_col > self.L/2.0:\n",
        "                        dist_col -= self.L\n",
        "                    if dist_col < -self.L/2.0:\n",
        "                        dist_col += self.L\n",
        "                    forces[iatom, col] += (force*dist_col/dist_square)\n",
        "                    forces[jatom, col] -= (force*dist_col/dist_square)\n",
        "        return  forces\n",
        "\n",
        "    def update_velocities(self,forces, masses, accelerations, velocities, timeStep):\n",
        "        for iatom in range(self.N):\n",
        "            for col in [0, 1]:\n",
        "                accelerations[iatom, col] = forces[iatom, col]/masses[iatom]\n",
        "                velocities[iatom, col] += accelerations[iatom, col]*timeStep\n",
        "        return velocities\n",
        "\n",
        "    def thermostat(self,velocities, masses, temperatureRef=1):\n",
        "        kineticEnergy = 0.0\n",
        "        for iatom in range(self.N):\n",
        "            ke_temp = 0.0\n",
        "            for col in [0, 1]:\n",
        "                ke_temp += velocities[iatom, col]**2\n",
        "            ke_temp *= 0.5*masses[iatom]\n",
        "            kineticEnergy += ke_temp\n",
        "        temperatureTemp = kineticEnergy*2.0/(2.0*self.N)\n",
        "\n",
        "        scaling_factor = math.sqrt(temperatureRef/temperatureTemp)\n",
        "        for iatom in range(self.N):\n",
        "            for col in [0, 1]:\n",
        "                velocities[iatom, col] *= scaling_factor\n",
        "\n",
        "        return velocities\n",
        "\n",
        "\n",
        "    def initialize_particles_rand(self):\n",
        "        circle_centers = []\n",
        "        particles = []\n",
        "        while len(circle_centers) < self.N:\n",
        "            new_circle = np.random.uniform(0, self.L, 2)\n",
        "\n",
        "            if not self.is_overlapping(new_circle, circle_centers, self.L, self.r):\n",
        "                circle_centers.append(new_circle)\n",
        "                x = torch.tensor(new_circle[0],dtype=torch.float32)\n",
        "                y = torch.tensor(new_circle[1],dtype=torch.float32)\n",
        "                theta = torch.rand(1) * 2 * np.pi\n",
        "                particles.append((x, y, theta))\n",
        "        return particles\n",
        "\n",
        "    def distance(self, p1, p2):\n",
        "        # 计算在周期性边界条件下的距离\n",
        "        dx = p2[0] - p1[0]\n",
        "        dy = p2[1] - p1[1]\n",
        "        # 考虑周期性边界条件\n",
        "        dx = dx - self.L * torch.round(dx / self.L)\n",
        "        dy = dy - self.L * torch.round(dy / self.L)\n",
        "        dist = torch.sqrt(dx**2 + dy**2)\n",
        "        return dist, dx, dy\n",
        "\n",
        "    def angle(self, p1, p2):\n",
        "        # 计算两个粒子之间的夹角\n",
        "        _, dx, dy = self.distance(p1, p2)\n",
        "        # 计算粒子p1的取向向量\n",
        "        theta1 = p1[2]\n",
        "        v1 = torch.tensor([torch.sin(theta1), torch.cos(theta1)])  # p1的方向向量\n",
        "        # 计算两个粒子连线的方向\n",
        "        line_vector = torch.tensor([dx, dy])\n",
        "        # 计算夹角\n",
        "        angle_p1 = torch.atan2(v1[1], v1[0]) - torch.atan2(line_vector[1], line_vector[0])\n",
        "        angle_p1 = torch.fmod(angle_p1, 2 * np.pi)  # 将角度限制在0到2*pi之间\n",
        "        return angle_p1\n",
        "\n",
        "    def lj_potential(self, dist):\n",
        "        # Lennard-Jones 势能计算\n",
        "        inv_r6 = (self.sigma / dist)**6\n",
        "        inv_r12 = inv_r6**2\n",
        "        return 4 * self.epsilon * (inv_r12 - inv_r6)\n",
        "\n",
        "    def angle_potential(self, angle_p12, angle_p21,t):\n",
        "        # 通过神经网络计算角度相关的势能\n",
        "        energy_p12 = self.angle_nn(angle_p12)\n",
        "        energy_p21 = self.angle_nn(angle_p21)\n",
        "        # 取最小值作为最终势能\n",
        "        epsilon_t = self.epsilon_plus(t)\n",
        "\n",
        "        return -1 * epsilon_t * torch.min(energy_p12, energy_p21)\n",
        "\n",
        "    def total_energy(self,config_p,t):\n",
        "        # 计算系统总能量\n",
        "        total_energy = torch.tensor(0.0, requires_grad=True)\n",
        "        # total_energy_angular = torch.tensor(0.0, requires_grad=True)\n",
        "        for i, p1 in enumerate(config_p):\n",
        "            for j, p2 in enumerate(config_p):\n",
        "                if i != j:\n",
        "                    dist, _, _ = self.distance(p1, p2)\n",
        "                    if dist <= 1.1 * self.r:  # 在1.5倍r的范围内\n",
        "                        # print(\"hi\")\n",
        "                        # Lennard-Jones 势能\n",
        "                        lj_energy = self.lj_potential(dist)\n",
        "                        # 计算角度相关的势能\n",
        "                        angle_p12 = self.angle(p1, p2)\n",
        "                        angle_p21 = self.angle(p2, p1)\n",
        "                        angle_energy = self.angle_potential(angle_p12, angle_p21,t)\n",
        "                        # 总势能累加\n",
        "                        total_energy = total_energy + lj_energy + angle_energy\n",
        "                        # total_energy_angular = total_energy_angular + angle_energy\n",
        "\n",
        "        return total_energy"
      ],
      "metadata": {
        "id": "s6DAFpJCkep6"
      },
      "execution_count": 63,
      "outputs": []
    },
    {
      "cell_type": "code",
      "source": [
        "# 初始化模拟体系\n",
        "\n",
        "N = 100  # 粒子数目\n",
        "r = 1.0  # 粒子半径\n",
        "\n",
        "L = 15*r  # 盒子长度\n",
        "\n",
        "epsilon = 1.0  # Lennard-Jones 势能深度\n",
        "sigma = r/1.122  # Lennard-Jones 势能参数\n"
      ],
      "metadata": {
        "id": "_L-qhyeAlIzx"
      },
      "execution_count": 64,
      "outputs": []
    },
    {
      "cell_type": "code",
      "source": [
        "system = ParticleSystemTorch(L, N, r, epsilon, sigma)"
      ],
      "metadata": {
        "id": "bKlhLrgqlK4m"
      },
      "execution_count": 65,
      "outputs": []
    },
    {
      "cell_type": "code",
      "source": [
        "timestep = torch.tensor([5], dtype=torch.float32)"
      ],
      "metadata": {
        "id": "iaaGHDN5yWqS"
      },
      "execution_count": 66,
      "outputs": []
    },
    {
      "cell_type": "markdown",
      "source": [
        "### 反向传播"
      ],
      "metadata": {
        "id": "APEU_scyY7BJ"
      }
    },
    {
      "cell_type": "code",
      "source": [
        "optimizer = torch.optim.Adam(list(system.angle_nn.parameters())+list(system.epsilon_mlp.parameters()), lr=0.001)"
      ],
      "metadata": {
        "id": "fK-8bgr2Y86c"
      },
      "execution_count": 72,
      "outputs": []
    },
    {
      "cell_type": "code",
      "source": [
        "t_energy = system.total_energy(system.particles_warm,timestep)"
      ],
      "metadata": {
        "id": "BGq5O2zIZAxb"
      },
      "execution_count": 73,
      "outputs": []
    },
    {
      "cell_type": "code",
      "source": [
        "t_energy"
      ],
      "metadata": {
        "colab": {
          "base_uri": "https://localhost:8080/"
        },
        "id": "n0DuG7DrydfK",
        "outputId": "d3f07abb-9bf8-477d-9713-7f9b3255140c"
      },
      "execution_count": 74,
      "outputs": [
        {
          "output_type": "execute_result",
          "data": {
            "text/plain": [
              "tensor([[-331.4592]], grad_fn=<AddBackward0>)"
            ]
          },
          "metadata": {},
          "execution_count": 74
        }
      ]
    },
    {
      "cell_type": "code",
      "source": [
        "t_energy.backward()"
      ],
      "metadata": {
        "id": "d8QG8H4bZRRc"
      },
      "execution_count": 75,
      "outputs": []
    },
    {
      "cell_type": "code",
      "source": [],
      "metadata": {
        "id": "J06Ae6hAZbKe"
      },
      "execution_count": 75,
      "outputs": []
    },
    {
      "cell_type": "code",
      "source": [
        "optimizer.step()\n",
        "optimizer.zero_grad()"
      ],
      "metadata": {
        "id": "sYklXnWsZRd5"
      },
      "execution_count": 76,
      "outputs": []
    },
    {
      "cell_type": "code",
      "source": [
        "print(\"更新前的参数：\")\n",
        "for name, param in system.angle_nn.named_parameters():\n",
        "    print(f\"{name}: {param.data}\")"
      ],
      "metadata": {
        "colab": {
          "base_uri": "https://localhost:8080/"
        },
        "id": "IJGeb9NTZ4Zm",
        "outputId": "37498df7-ec00-454f-80cc-19dca689e4e9"
      },
      "execution_count": 442,
      "outputs": [
        {
          "output_type": "stream",
          "name": "stdout",
          "text": [
            "更新前的参数：\n",
            "mlp.0.weight: tensor([[ 0.1141, -0.1866,  0.1045,  ..., -0.0085,  0.0948, -0.0144],\n",
            "        [ 0.1953, -0.1301,  0.1375,  ..., -0.1250,  0.1626,  0.1749],\n",
            "        [ 0.0853, -0.1745, -0.0657,  ..., -0.1700,  0.0961, -0.0244],\n",
            "        ...,\n",
            "        [-0.1781,  0.0918, -0.1596,  ..., -0.1781, -0.0851,  0.0090],\n",
            "        [ 0.0134,  0.1600,  0.0779,  ..., -0.1268,  0.0611, -0.2119],\n",
            "        [ 0.0677, -0.0913, -0.1390,  ..., -0.0776,  0.0371,  0.0851]])\n",
            "mlp.0.bias: tensor([-0.1717,  0.0708, -0.1742, -0.0086, -0.0916, -0.1632,  0.0995,  0.1595,\n",
            "         0.1494,  0.1442,  0.1595, -0.1512, -0.0311,  0.2123,  0.1049,  0.1222,\n",
            "        -0.0998,  0.0262, -0.1375, -0.0711,  0.1574, -0.2081, -0.0775,  0.1124,\n",
            "        -0.1363, -0.1161,  0.1101, -0.0500,  0.1015, -0.1938,  0.1119, -0.1317,\n",
            "        -0.1981, -0.0965,  0.1137,  0.0546, -0.1829,  0.1983,  0.0762, -0.0475,\n",
            "        -0.0322, -0.1152, -0.1586,  0.1845,  0.0820, -0.1965,  0.2069, -0.1970,\n",
            "        -0.0163, -0.0005,  0.0817,  0.1283,  0.2135,  0.1440, -0.0838,  0.0165,\n",
            "         0.1380, -0.0123, -0.1822,  0.1917, -0.0290, -0.0109, -0.1592, -0.1115,\n",
            "         0.1459,  0.1582, -0.1224,  0.0422,  0.1973,  0.0488, -0.0781,  0.0864,\n",
            "         0.0712, -0.1469, -0.1105, -0.0739, -0.0969,  0.0807, -0.1966,  0.2126,\n",
            "        -0.0217,  0.0258, -0.1770, -0.0826, -0.2134, -0.1821,  0.2165, -0.2017,\n",
            "        -0.1404,  0.0160, -0.1180,  0.1622,  0.1738, -0.1039, -0.0164,  0.1606,\n",
            "         0.0537,  0.1908, -0.0034, -0.1832, -0.0615,  0.1516, -0.1490, -0.0243,\n",
            "        -0.1448, -0.0108, -0.1351,  0.1845,  0.1904, -0.0241, -0.1491,  0.1992,\n",
            "         0.0420, -0.1396,  0.1039,  0.2136, -0.0841,  0.0607, -0.1208, -0.0883,\n",
            "         0.0649, -0.0744, -0.1683,  0.1982, -0.2012,  0.0889, -0.1561, -0.1024])\n",
            "mlp.2.weight: tensor([[ 0.0621,  0.0372,  0.0447,  0.0610,  0.0552, -0.0496,  0.0217, -0.0368,\n",
            "         -0.0806, -0.0785,  0.0351, -0.0817, -0.0459, -0.0173,  0.0113, -0.0483,\n",
            "         -0.0520,  0.0772, -0.0134,  0.0639,  0.0102,  0.0792,  0.0440,  0.0328,\n",
            "         -0.0693, -0.0769, -0.0532, -0.0676, -0.0149,  0.0368,  0.0409, -0.0236,\n",
            "         -0.0051, -0.0818,  0.0541, -0.0864, -0.0289,  0.0716,  0.0563,  0.0502,\n",
            "         -0.0524, -0.0678, -0.0174,  0.0401, -0.0664, -0.0731,  0.0622,  0.0811,\n",
            "          0.0472,  0.0261, -0.0026,  0.0094,  0.0431, -0.0156, -0.0599, -0.0743,\n",
            "          0.0148, -0.0075,  0.0728,  0.0786, -0.0651,  0.0266, -0.0070, -0.0276,\n",
            "         -0.0327,  0.0388, -0.0226,  0.0360,  0.0610,  0.0722,  0.0789,  0.0007,\n",
            "         -0.0499,  0.0476,  0.0658,  0.0715, -0.0410, -0.0368,  0.0735, -0.0638,\n",
            "         -0.0674,  0.0046,  0.0007,  0.0147,  0.0754,  0.0555,  0.0210,  0.0183,\n",
            "          0.0866,  0.0026,  0.0570,  0.0572,  0.0647,  0.0559, -0.0126, -0.0515,\n",
            "         -0.0570,  0.0547, -0.0237, -0.0622,  0.0066, -0.0760,  0.0807, -0.0307,\n",
            "          0.0521, -0.0061, -0.0694,  0.0157, -0.0152, -0.0148,  0.0268,  0.0793,\n",
            "          0.0655,  0.0728,  0.0816,  0.0770,  0.0047,  0.0888, -0.0847,  0.0177,\n",
            "         -0.0789,  0.0499, -0.0001,  0.0647, -0.0807,  0.0550,  0.0222, -0.0171]])\n",
            "mlp.2.bias: tensor([0.0029])\n"
          ]
        }
      ]
    },
    {
      "cell_type": "code",
      "source": [
        "\n",
        "\n",
        "# 前向传播，计算总能量\n",
        "t_energy = system.total_energy(system.particles_warm)\n",
        "\n",
        "# 反向传播\n",
        "t_energy.backward()\n",
        "\n",
        "# 使用优化器更新 angle_nn 的参数\n",
        "optimizer.step()\n",
        "\n",
        "# 清零梯度\n",
        "optimizer.zero_grad()\n",
        "\n",
        "# 更新后的参数\n",
        "print(\"\\n更新后的参数：\")\n",
        "for name, param in system.angle_nn.named_parameters():\n",
        "    print(f\"{name}: {param.data}\")\n"
      ],
      "metadata": {
        "colab": {
          "base_uri": "https://localhost:8080/"
        },
        "id": "cTcncGUYZA8e",
        "outputId": "40805b48-fd9d-414f-f929-86b1cf791def"
      },
      "execution_count": 443,
      "outputs": [
        {
          "output_type": "stream",
          "name": "stdout",
          "text": [
            "\n",
            "更新后的参数：\n",
            "mlp.0.weight: tensor([[ 0.1131, -0.1856,  0.1055,  ..., -0.0075,  0.0938, -0.0134],\n",
            "        [ 0.1943, -0.1291,  0.1385,  ..., -0.1240,  0.1616,  0.1759],\n",
            "        [ 0.0843, -0.1735, -0.0647,  ..., -0.1690,  0.0951, -0.0234],\n",
            "        ...,\n",
            "        [-0.1791,  0.0928, -0.1586,  ..., -0.1771, -0.0861,  0.0100],\n",
            "        [ 0.0124,  0.1610,  0.0789,  ..., -0.1258,  0.0601, -0.2109],\n",
            "        [ 0.0687, -0.0923, -0.1400,  ..., -0.0786,  0.0381,  0.0841]])\n",
            "mlp.0.bias: tensor([-0.1707,  0.0718, -0.1732, -0.0076, -0.0906, -0.1642,  0.1005,  0.1585,\n",
            "         0.1484,  0.1432,  0.1605, -0.1522, -0.0321,  0.2113,  0.1059,  0.1212,\n",
            "        -0.1008,  0.0272, -0.1385, -0.0701,  0.1584, -0.2071, -0.0765,  0.1134,\n",
            "        -0.1373, -0.1171,  0.1091, -0.0510,  0.1005, -0.1928,  0.1129, -0.1327,\n",
            "        -0.1991, -0.0975,  0.1147,  0.0536, -0.1839,  0.1993,  0.0772, -0.0465,\n",
            "        -0.0332, -0.1162, -0.1596,  0.1855,  0.0810, -0.1975,  0.2079, -0.1960,\n",
            "        -0.0153,  0.0005,  0.0807,  0.1293,  0.2145,  0.1430, -0.0848,  0.0155,\n",
            "         0.1390, -0.0133, -0.1812,  0.1927, -0.0300, -0.0099, -0.1602, -0.1125,\n",
            "         0.1449,  0.1592, -0.1234,  0.0432,  0.1983,  0.0498, -0.0771,  0.0868,\n",
            "         0.0702, -0.1459, -0.1095, -0.0729, -0.0979,  0.0797, -0.1956,  0.2116,\n",
            "        -0.0227,  0.0268, -0.1760, -0.0816, -0.2124, -0.1811,  0.2175, -0.2007,\n",
            "        -0.1394,  0.0170, -0.1170,  0.1632,  0.1748, -0.1029, -0.0174,  0.1596,\n",
            "         0.0527,  0.1918, -0.0044, -0.1842, -0.0605,  0.1506, -0.1480, -0.0253,\n",
            "        -0.1438, -0.0118, -0.1361,  0.1855,  0.1894, -0.0251, -0.1481,  0.2002,\n",
            "         0.0430, -0.1386,  0.1049,  0.2146, -0.0831,  0.0617, -0.1218, -0.0873,\n",
            "         0.0639, -0.0734, -0.1678,  0.1992, -0.2022,  0.0899, -0.1551, -0.1034])\n",
            "mlp.2.weight: tensor([[ 0.0611,  0.0383,  0.0437,  0.0600,  0.0542, -0.0506,  0.0227, -0.0358,\n",
            "         -0.0796, -0.0775,  0.0361, -0.0827, -0.0469, -0.0163,  0.0123, -0.0473,\n",
            "         -0.0510,  0.0762, -0.0144,  0.0629,  0.0112,  0.0782,  0.0450,  0.0338,\n",
            "         -0.0703, -0.0779, -0.0522, -0.0686, -0.0159,  0.0358,  0.0419, -0.0246,\n",
            "         -0.0061, -0.0828,  0.0532, -0.0854, -0.0299,  0.0726,  0.0573,  0.0492,\n",
            "         -0.0514, -0.0688, -0.0184,  0.0411, -0.0654, -0.0721,  0.0633,  0.0821,\n",
            "          0.0462,  0.0252, -0.0036,  0.0104,  0.0441, -0.0146, -0.0589, -0.0753,\n",
            "          0.0158, -0.0085,  0.0718,  0.0796, -0.0661,  0.0256, -0.0080, -0.0286,\n",
            "         -0.0317,  0.0398, -0.0216,  0.0370,  0.0620,  0.0732,  0.0779,  0.0017,\n",
            "         -0.0489,  0.0466,  0.0648,  0.0705, -0.0400, -0.0358,  0.0725, -0.0628,\n",
            "         -0.0664,  0.0036, -0.0003,  0.0137,  0.0744,  0.0545,  0.0220,  0.0173,\n",
            "          0.0856,  0.0036,  0.0560,  0.0582,  0.0657,  0.0549, -0.0136, -0.0505,\n",
            "         -0.0560,  0.0557, -0.0227, -0.0632,  0.0056, -0.0750,  0.0797, -0.0317,\n",
            "          0.0511, -0.0051, -0.0704,  0.0167, -0.0142, -0.0158,  0.0258,  0.0803,\n",
            "          0.0665,  0.0718,  0.0826,  0.0780,  0.0037,  0.0898, -0.0837,  0.0167,\n",
            "         -0.0779,  0.0489, -0.0011,  0.0657, -0.0817,  0.0542,  0.0212, -0.0181]])\n",
            "mlp.2.bias: tensor([0.0039])\n"
          ]
        }
      ]
    },
    {
      "cell_type": "code",
      "source": [
        "for i in range(20):\n",
        "    t_energy = system.total_energy(system.particles_warm)\n",
        "\n",
        "    t_energy.backward()\n",
        "\n",
        "    # 使用优化器更新 angle_nn 的参数\n",
        "    optimizer.step()\n",
        "\n",
        "    # 清零梯度\n",
        "    optimizer.zero_grad()\n"
      ],
      "metadata": {
        "id": "W-1ajkBXaO7G"
      },
      "execution_count": 444,
      "outputs": []
    },
    {
      "cell_type": "code",
      "source": [
        "total_energy,tea = system.total_energy(system.particles_warm)"
      ],
      "metadata": {
        "id": "56IckdYllN9I"
      },
      "execution_count": 423,
      "outputs": []
    },
    {
      "cell_type": "markdown",
      "source": [
        "### 绘图"
      ],
      "metadata": {
        "id": "kqttGOCkzZe1"
      }
    },
    {
      "cell_type": "code",
      "source": [
        "import torch\n",
        "import numpy as np\n",
        "import matplotlib.pyplot as plt\n",
        "\n",
        "# 定义角度范围\n",
        "angles = torch.linspace(0, 2 * np.pi, 100)  # 从0到2π的角度值\n",
        "\n",
        "# 使用angle_nn计算每个角度对应的能量\n",
        "with torch.no_grad():  # 关闭梯度追踪\n",
        "    outputs = system.angle_nn(angles)\n",
        "\n",
        "# 将结果转换为numpy数组，便于绘图\n",
        "angles_np = angles.numpy()\n",
        "outputs_np = outputs.numpy()\n",
        "\n",
        "# 绘制角度和神经网络输出的曲线\n",
        "plt.plot(angles_np, outputs_np, label='angle_nn output')\n",
        "plt.xlabel('Angle (radians)')\n",
        "plt.ylabel('Network Output (Potential Energy)')\n",
        "plt.title('Angle to Potential Energy Mapping by angle_nn')\n",
        "plt.legend()\n",
        "plt.grid(True)\n",
        "plt.show()"
      ],
      "metadata": {
        "colab": {
          "base_uri": "https://localhost:8080/",
          "height": 472
        },
        "id": "_xPbwKPTEtB_",
        "outputId": "4bf880e3-5c91-4fe0-da61-abdc65a86418"
      },
      "execution_count": 77,
      "outputs": [
        {
          "output_type": "display_data",
          "data": {
            "text/plain": [
              "<Figure size 640x480 with 1 Axes>"
            ],
            "image/png": "[encoded data removed]"
          },
          "metadata": {}
        }
      ]
    },
    {
      "cell_type": "code",
      "source": [
        "import torch\n",
        "import numpy as np\n",
        "import matplotlib.pyplot as plt\n",
        "\n",
        "# 定义角度范围\n",
        "angles = torch.linspace(0, 2 * np.pi, 100)  # 从0到2π的角度值\n",
        "\n",
        "# 使用angle_nn计算每个角度对应的能量\n",
        "with torch.no_grad():  # 关闭梯度追踪\n",
        "    outputs = system.angle_nn(angles)\n",
        "\n",
        "# 将结果转换为numpy数组，便于绘图\n",
        "angles_np = angles.numpy()\n",
        "outputs_np = outputs.numpy()\n",
        "\n",
        "# 创建极坐标图\n",
        "fig = plt.figure()\n",
        "ax = fig.add_subplot(111, projection='polar')  # 使用极坐标\n",
        "ax.plot(angles_np, outputs_np, label='angle_nn output')  # 角度与能量\n",
        "\n",
        "# 设置极坐标图的标签和标题\n",
        "ax.set_xlabel('Angle (radians)')\n",
        "ax.set_ylabel('Network Output (Potential Energy)')\n",
        "ax.set_title('Angle to Potential Energy Mapping (Polar)')\n",
        "\n",
        "# 添加网格和图例\n",
        "ax.legend()\n",
        "ax.grid(True)\n",
        "\n",
        "# 显示图像\n",
        "plt.show()\n"
      ],
      "metadata": {
        "colab": {
          "base_uri": "https://localhost:8080/",
          "height": 501
        },
        "id": "qutWyIYOmReW",
        "outputId": "a3c4773b-4947-4c4e-da94-737288fef0af"
      },
      "execution_count": 78,
      "outputs": [
        {
          "output_type": "display_data",
          "data": {
            "text/plain": [
              "<Figure size 640x480 with 1 Axes>"
            ],
            "image/png": "[encoded data removed]"
          },
          "metadata": {}
        }
      ]
    },
    {
      "cell_type": "code",
      "source": [
        "import torch\n",
        "import numpy as np\n",
        "import matplotlib.pyplot as plt\n",
        "\n",
        "# 定义最大时间和采样时间步\n",
        "T_max = 15\n",
        "num_samples = 16\n",
        "t_values = torch.linspace(0, T_max, num_samples)  # 生成从0到T_max的时间步\n"
      ],
      "metadata": {
        "id": "tJDy3eHAzfJn"
      },
      "execution_count": 79,
      "outputs": []
    },
    {
      "cell_type": "code",
      "source": [
        "epsilon_values = []\n",
        "for t in t_values:\n",
        "    t_emb = get_timestep_embedding(t.unsqueeze(0), 128)  # 时间嵌入\n",
        "    epsilon_output = system.epsilon_mlp(t_emb)  # 获取 epsilon_mlp 的输出\n",
        "    epsilon_values.append(epsilon_output.item())"
      ],
      "metadata": {
        "id": "noOdbqerzn8g"
      },
      "execution_count": 80,
      "outputs": []
    },
    {
      "cell_type": "code",
      "source": [
        "# 转换为 NumPy 数组便于绘图\n",
        "epsilon_values = np.array(epsilon_values)\n",
        "t_values_np = t_values.numpy()\n",
        "\n",
        "# 绘制 epsilon_mlp 随时间 t 的变化曲线\n",
        "plt.figure(figsize=(8, 6))\n",
        "plt.plot(t_values_np, epsilon_values, label='epsilon_mlp(t)', color='b', linewidth=2)\n",
        "plt.title('Epsilon MLP Output vs Time', fontsize=16)\n",
        "plt.xlabel('Time t', fontsize=14)\n",
        "plt.ylabel('Epsilon (Potential Strength)', fontsize=14)\n",
        "plt.grid(True)\n",
        "plt.legend()\n",
        "plt.show()\n"
      ],
      "metadata": {
        "colab": {
          "base_uri": "https://localhost:8080/",
          "height": 571
        },
        "id": "FNNJKMUK0C6G",
        "outputId": "529e39b7-8069-4bb0-83e9-5cbe39a27816"
      },
      "execution_count": 81,
      "outputs": [
        {
          "output_type": "display_data",
          "data": {
            "text/plain": [
              "<Figure size 800x600 with 1 Axes>"
            ],
            "image/png": "[encoded data removed]"
          },
          "metadata": {}
        }
      ]
    },
    {
      "cell_type": "code",
      "source": [
        "# p1 能量太大 p2 换傅里叶 p3 反向传播更新力场 p4 能量含时神经网络"
      ],
      "metadata": {
        "id": "iMif_0Q2msZ-"
      },
      "execution_count": null,
      "outputs": []
    },
    {
      "cell_type": "code",
      "source": [
        "!pip install celluloid"
      ],
      "metadata": {
        "colab": {
          "base_uri": "https://localhost:8080/"
        },
        "id": "byKbm8KXLWao",
        "outputId": "12a746e6-bfac-43ab-f829-c0faa5ac8834"
      },
      "execution_count": 339,
      "outputs": [
        {
          "output_type": "stream",
          "name": "stdout",
          "text": [
            "Collecting celluloid\n",
            "  Downloading celluloid-0.2.0-py3-none-any.whl.metadata (4.8 kB)\n",
            "Requirement already satisfied: matplotlib in /usr/local/lib/python3.10/dist-packages (from celluloid) (3.7.1)\n",
            "Requirement already satisfied: contourpy>=1.0.1 in /usr/local/lib/python3.10/dist-packages (from matplotlib->celluloid) (1.3.0)\n",
            "Requirement already satisfied: cycler>=0.10 in /usr/local/lib/python3.10/dist-packages (from matplotlib->celluloid) (0.12.1)\n",
            "Requirement already satisfied: fonttools>=4.22.0 in /usr/local/lib/python3.10/dist-packages (from matplotlib->celluloid) (4.54.1)\n",
            "Requirement already satisfied: kiwisolver>=1.0.1 in /usr/local/lib/python3.10/dist-packages (from matplotlib->celluloid) (1.4.7)\n",
            "Requirement already satisfied: numpy>=1.20 in /usr/local/lib/python3.10/dist-packages (from matplotlib->celluloid) (1.26.4)\n",
            "Requirement already satisfied: packaging>=20.0 in /usr/local/lib/python3.10/dist-packages (from matplotlib->celluloid) (24.1)\n",
            "Requirement already satisfied: pillow>=6.2.0 in /usr/local/lib/python3.10/dist-packages (from matplotlib->celluloid) (10.4.0)\n",
            "Requirement already satisfied: pyparsing>=2.3.1 in /usr/local/lib/python3.10/dist-packages (from matplotlib->celluloid) (3.1.4)\n",
            "Requirement already satisfied: python-dateutil>=2.7 in /usr/local/lib/python3.10/dist-packages (from matplotlib->celluloid) (2.8.2)\n",
            "Requirement already satisfied: six>=1.5 in /usr/local/lib/python3.10/dist-packages (from python-dateutil>=2.7->matplotlib->celluloid) (1.16.0)\n",
            "Downloading celluloid-0.2.0-py3-none-any.whl (5.4 kB)\n",
            "Installing collected packages: celluloid\n",
            "Successfully installed celluloid-0.2.0\n"
          ]
        }
      ]
    },
    {
      "cell_type": "code",
      "source": [
        "from celluloid import Camera\n",
        "from matplotlib import pyplot as plt\n",
        "import random\n",
        "\n",
        "\n",
        "fig = plt.figure()\n",
        "plt.xlim([0, 15])\n",
        "plt.ylim([0, 15])\n",
        "camera = Camera(fig)\n",
        "\n",
        "colorsList = random.sample(range(1, 100+1), k = len(system.particles) )\n",
        "colors = colorsList\n",
        "\n",
        "plt.scatter(system.particles_warm[:, 0], system.particles_warm[:, 1], s=256, c=colors, cmap='plasma')\n",
        "camera.snap()\n",
        "\n",
        "animation = camera.animate()\n",
        "animation.save('simu_system5.gif', writer = 'pillow', fps=64)"
      ],
      "metadata": {
        "colab": {
          "base_uri": "https://localhost:8080/",
          "height": 430
        },
        "id": "eNdfNfTJIPJp",
        "outputId": "d8d3a216-a743-4f40-c5b1-f2e2532228d4"
      },
      "execution_count": 419,
      "outputs": [
        {
          "output_type": "display_data",
          "data": {
            "text/plain": [
              "<Figure size 640x480 with 1 Axes>"
            ],
            "image/png": "[encoded data removed]"
          },
          "metadata": {}
        }
      ]
    },
    {
      "cell_type": "code",
      "source": [
        "aaa"
      ],
      "metadata": {
        "colab": {
          "base_uri": "https://localhost:8080/"
        },
        "id": "hryl2sKFV9rT",
        "outputId": "389ee155-dd0c-45d6-afd0-87750f2227cd"
      },
      "execution_count": 390,
      "outputs": [
        {
          "output_type": "execute_result",
          "data": {
            "text/plain": [
              "array([[ 1.3039637 ,  0.9575577 ,  1.8027056 ],\n",
              "       [ 2.497222  ,  0.85804653,  5.3736806 ],\n",
              "       [ 3.3189402 ,  1.0392075 ,  3.9647253 ],\n",
              "       [ 6.294753  ,  1.4707203 ,  2.6748178 ],\n",
              "       [ 7.56283   , 14.774891  ,  1.0012585 ],\n",
              "       [ 9.3118925 , 14.881685  ,  5.4057913 ],\n",
              "       [ 9.6574745 ,  1.0371876 ,  1.6010071 ],\n",
              "       [11.5409    ,  0.72397614,  3.8969386 ],\n",
              "       [12.706785  ,  1.37255   ,  5.369646  ],\n",
              "       [14.200893  ,  0.31130314,  4.8510923 ],\n",
              "       [ 0.7260046 ,  3.3876753 ,  4.866691  ],\n",
              "       [ 3.0523405 ,  3.1037874 ,  3.1317418 ],\n",
              "       [ 3.9321795 ,  2.804037  ,  0.6392534 ],\n",
              "       [ 5.7963905 ,  0.6280241 ,  0.9751828 ],\n",
              "       [ 4.9426546 ,  1.7309656 ,  3.137917  ],\n",
              "       [ 8.575138  ,  0.9269867 ,  2.4054263 ],\n",
              "       [11.400642  ,  2.1608725 ,  1.2329332 ],\n",
              "       [10.864663  ,  3.077281  ,  4.682913  ],\n",
              "       [13.031668  ,  2.7334776 ,  6.1262016 ],\n",
              "       [14.853867  ,  3.3767138 ,  2.4553888 ],\n",
              "       [ 1.9576759 ,  3.4883976 ,  5.6286755 ],\n",
              "       [ 2.815014  ,  4.390136  ,  3.4691446 ],\n",
              "       [ 3.8632898 ,  4.6729403 ,  5.757511  ],\n",
              "       [ 4.974718  ,  4.199258  ,  6.02917   ],\n",
              "       [ 7.0651865 ,  4.163622  ,  1.1647902 ],\n",
              "       [ 6.8638325 ,  2.4524155 ,  0.4853822 ],\n",
              "       [10.273058  ,  4.742901  ,  4.67247   ],\n",
              "       [12.288027  ,  4.6283674 ,  0.5319346 ],\n",
              "       [12.927933  ,  3.8486795 ,  3.765151  ],\n",
              "       [14.38833   ,  4.2983866 ,  5.9814763 ],\n",
              "       [ 0.7083807 ,  5.337037  ,  0.40101412],\n",
              "       [ 1.4893093 ,  4.841687  ,  1.3270657 ],\n",
              "       [ 4.0967064 ,  5.596449  ,  0.3270052 ],\n",
              "       [ 5.0628796 ,  5.338067  ,  0.4734569 ],\n",
              "       [ 6.142191  ,  5.1266756 ,  3.0594745 ],\n",
              "       [ 8.41883   ,  5.9574957 ,  5.1985674 ],\n",
              "       [11.308432  ,  6.4821243 ,  5.724922  ],\n",
              "       [11.229746  ,  5.1081305 ,  3.0342088 ],\n",
              "       [12.460897  ,  5.7612686 ,  6.240416  ],\n",
              "       [14.600182  ,  5.493866  ,  1.5712106 ],\n",
              "       [ 1.28475   ,  7.3914824 ,  0.6534388 ],\n",
              "       [ 2.1595554 ,  7.1564274 ,  1.915738  ],\n",
              "       [ 4.394269  ,  6.52044   ,  5.2152944 ],\n",
              "       [ 4.921714  ,  7.3156033 ,  1.1999587 ],\n",
              "       [ 7.044236  ,  6.887164  ,  4.3671308 ],\n",
              "       [ 9.712244  ,  9.513138  ,  0.07952687],\n",
              "       [ 9.432333  ,  5.946212  ,  5.4424863 ],\n",
              "       [12.418787  ,  8.18474   ,  1.8667732 ],\n",
              "       [12.13565   ,  6.9253693 ,  4.158056  ],\n",
              "       [14.858883  ,  7.5343447 ,  0.83839273],\n",
              "       [ 1.4536114 ,  8.558229  ,  3.932387  ],\n",
              "       [ 2.4695063 ,  8.253603  ,  1.5065957 ],\n",
              "       [ 3.8807983 ,  7.3705797 ,  2.77172   ],\n",
              "       [ 5.5351763 ,  8.278734  ,  4.264453  ],\n",
              "       [ 6.050499  ,  7.1019983 ,  5.3069754 ],\n",
              "       [ 8.546499  , 10.555717  ,  5.842454  ],\n",
              "       [10.17294   ,  7.594411  ,  1.2732874 ],\n",
              "       [11.053438  ,  8.50605   ,  2.0371232 ],\n",
              "       [13.468343  ,  7.91559   ,  2.986674  ],\n",
              "       [14.678164  ,  8.469779  ,  1.8176037 ],\n",
              "       [ 0.5256281 , 10.104612  ,  5.0532985 ],\n",
              "       [ 2.428732  ,  9.303942  ,  3.4117243 ],\n",
              "       [ 4.525074  , 10.39471   ,  5.7260265 ],\n",
              "       [ 5.7346296 ,  9.761562  ,  2.7363033 ],\n",
              "       [ 6.5021715 ,  8.988023  ,  0.9257435 ],\n",
              "       [ 7.7984405 ,  9.926624  ,  4.6766286 ],\n",
              "       [ 9.242124  , 11.176537  ,  1.919334  ],\n",
              "       [12.109846  ,  9.634699  ,  5.490637  ],\n",
              "       [13.179403  ,  9.512217  ,  1.5295444 ],\n",
              "       [14.486331  , 10.159461  ,  4.344235  ],\n",
              "       [ 1.0200853 , 11.889828  ,  5.387428  ],\n",
              "       [ 2.0374403 , 11.783835  ,  4.101171  ],\n",
              "       [ 3.1861553 , 11.27829   ,  5.8755074 ],\n",
              "       [ 6.607279  , 11.339518  ,  2.1561909 ],\n",
              "       [ 8.159144  , 12.510941  ,  1.367916  ],\n",
              "       [ 8.152406  , 13.476774  ,  1.4267958 ],\n",
              "       [11.131008  , 12.322401  ,  2.5639274 ],\n",
              "       [11.379316  , 11.192603  ,  1.8267    ],\n",
              "       [12.937272  , 10.956423  ,  3.5251687 ],\n",
              "       [14.106867  , 11.319222  ,  6.0265975 ],\n",
              "       [14.788723  , 12.496227  ,  2.3570638 ],\n",
              "       [ 2.252594  , 13.883926  ,  1.9416496 ],\n",
              "       [ 5.3261604 , 11.234602  ,  5.9235926 ],\n",
              "       [ 5.7940645 , 13.141999  ,  3.195662  ],\n",
              "       [ 7.306056  , 13.258536  ,  3.8355536 ],\n",
              "       [ 9.0920105 , 13.378937  ,  4.9983306 ],\n",
              "       [10.5322    , 13.227692  ,  1.2273139 ],\n",
              "       [12.028172  , 12.724248  ,  1.3440378 ],\n",
              "       [13.235963  , 12.391064  ,  0.38079715],\n",
              "       [13.612371  , 13.884661  ,  1.3904254 ],\n",
              "       [14.808214  ,  1.0487957 ,  1.9957949 ],\n",
              "       [ 1.2894382 , 13.465861  ,  3.0240345 ],\n",
              "       [ 4.2116175 ,  0.72911644,  2.108774  ],\n",
              "       [ 5.388006  , 14.794386  ,  3.8765194 ],\n",
              "       [ 6.506893  , 13.697098  ,  4.9145107 ],\n",
              "       [ 8.474988  , 14.197734  ,  0.53637433],\n",
              "       [10.050691  , 14.068582  ,  4.207073  ],\n",
              "       [11.262629  , 13.614469  ,  3.4668381 ],\n",
              "       [12.832582  , 14.33931   ,  2.2253356 ],\n",
              "       [14.477039  , 14.373373  ,  1.5457438 ]], dtype=float32)"
            ]
          },
          "metadata": {},
          "execution_count": 390
        }
      ]
    },
    {
      "cell_type": "code",
      "source": [
        "system.particles[:, 0]"
      ],
      "metadata": {
        "colab": {
          "base_uri": "https://localhost:8080/"
        },
        "id": "8edRRBKQL6Bj",
        "outputId": "cc6cfeac-8577-4009-d17e-7fc06b3e3688"
      },
      "execution_count": 342,
      "outputs": [
        {
          "output_type": "execute_result",
          "data": {
            "text/plain": [
              "tensor([ 0.9833,  2.7230,  4.2336,  5.3702,  7.0448,  8.4895,  9.8338, 11.2976,\n",
              "        13.0918, 14.7069,  0.8672,  2.6061,  3.9107,  5.5742,  6.8942,  8.4618,\n",
              "        10.2489, 11.5041, 12.7549, 14.2584,  0.8255,  2.4806,  4.0895,  5.3036,\n",
              "         7.1806,  8.6890,  9.9015, 11.6553, 13.2007, 14.2676,  1.1860,  2.6972,\n",
              "         3.8999,  5.3722,  6.9294,  8.4377,  9.8201, 11.3535, 13.0122, 14.3427,\n",
              "         1.1138,  2.3019,  3.8387,  5.6827,  7.0617,  8.5356, 10.1647, 11.5237,\n",
              "        12.8834, 14.7303,  0.9316,  2.3724,  3.7624,  5.7291,  7.1131,  8.5533,\n",
              "         9.8405, 11.3911, 12.8295, 14.5196,  1.1159,  2.4105,  3.8098,  5.6402,\n",
              "         6.9954,  8.7383,  9.9287, 11.4455, 12.9306, 14.4785,  0.8159,  2.4726,\n",
              "         4.2205,  5.5705,  7.0270,  8.3165,  9.9714, 11.6704, 13.1879, 14.5825,\n",
              "         0.9868,  2.6005,  4.0258,  5.3587,  7.0143,  8.4785, 10.1278, 11.4925,\n",
              "        12.9605, 14.5625,  0.9138,  2.4798,  3.7554,  5.4611,  6.9287,  8.5624,\n",
              "        10.0704, 11.5614, 12.9797, 14.5352])"
            ]
          },
          "metadata": {},
          "execution_count": 342
        }
      ]
    },
    {
      "cell_type": "code",
      "source": [],
      "metadata": {
        "id": "1TxVH_LVLVYf"
      },
      "execution_count": null,
      "outputs": []
    }
  ]
}